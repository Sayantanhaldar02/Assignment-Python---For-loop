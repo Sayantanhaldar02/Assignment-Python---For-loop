{
 "cells": [
  {
   "cell_type": "markdown",
   "id": "0031403a-09a6-414c-93e3-368c71c4cabe",
   "metadata": {},
   "source": [
    "# Assignment Questions:- For Loop"
   ]
  },
  {
   "cell_type": "markdown",
   "id": "060cf5fb-e85e-42e3-9823-9529fb35e926",
   "metadata": {},
   "source": [
    "1. Write a Python program to print the numbers from 1 to 10 using a `for` loop."
   ]
  },
  {
   "cell_type": "code",
   "execution_count": 7,
   "id": "f0be6b52-93a8-49bd-9d42-04266b88292c",
   "metadata": {},
   "outputs": [
    {
     "name": "stdout",
     "output_type": "stream",
     "text": [
      "-----Write a Python program to print the numbers from 1 to 10 using a for loop.-----\n",
      "\n",
      "1\n",
      "2\n",
      "3\n",
      "4\n",
      "5\n",
      "6\n",
      "7\n",
      "8\n",
      "9\n",
      "10\n"
     ]
    }
   ],
   "source": [
    "print(\"-----Write a Python program to print the numbers from 1 to 10 using a for loop.-----\")\n",
    "print()\n",
    "for i in range(1,11):\n",
    "    print(i)"
   ]
  },
  {
   "cell_type": "markdown",
   "id": "04346a0c-51c2-4b91-83f9-4cb6da2f9ee4",
   "metadata": {},
   "source": [
    "2. Create a program that calculates the sum of all numbers in a list using a `for` loop."
   ]
  },
  {
   "cell_type": "code",
   "execution_count": 10,
   "id": "8109847d-7c06-4730-87ca-c8b085d3771e",
   "metadata": {},
   "outputs": [
    {
     "name": "stdout",
     "output_type": "stream",
     "text": [
      "------Create a program that calculates the sum of all numbers in a list using a for loop.-----\n",
      "\n",
      "Sum of all numbers in list is : 240\n"
     ]
    }
   ],
   "source": [
    "print(\"------Create a program that calculates the sum of all numbers in a list using a for loop.-----\")\n",
    "print()\n",
    "\n",
    "list1 = [10,20,50,90,70]\n",
    "sum = 0\n",
    "for i in list1:\n",
    "    sum+=i\n",
    "\n",
    "print(f\"Sum of all numbers in list is : {sum}\")"
   ]
  },
  {
   "cell_type": "markdown",
   "id": "8e5406d9-5b83-474d-bce6-7193dfc0d215",
   "metadata": {},
   "source": [
    "3. Write a program to print the characters of a string in reverse order using a `for` loop."
   ]
  },
  {
   "cell_type": "code",
   "execution_count": 2,
   "id": "9a741a16-54dd-49f6-9c58-13c16ff0e99f",
   "metadata": {},
   "outputs": [
    {
     "name": "stdout",
     "output_type": "stream",
     "text": [
      "------Write a program to print the characters of a string in reverse order using a `for` loop.-----\n",
      "\n",
      "Reverse string is natnayaS\n"
     ]
    }
   ],
   "source": [
    "print(\"------Write a program to print the characters of a string in reverse order using a `for` loop.-----\")\n",
    "print()\n",
    "\n",
    "string1 =\"Sayantan\"\n",
    "rev_string = \"\"\n",
    "for i in string1:\n",
    "    rev_string = i + rev_string\n",
    "\n",
    "print(f\"Reverse string is {rev_string}\")\n",
    "    "
   ]
  },
  {
   "cell_type": "markdown",
   "id": "5cb0ba9a-29c7-4496-af90-79506f7339c3",
   "metadata": {},
   "source": [
    "4. Develop a program that finds the factorial of a given number using a `for` loop."
   ]
  },
  {
   "cell_type": "code",
   "execution_count": 18,
   "id": "e1794683-88a7-4306-9eef-30f0b24e97d6",
   "metadata": {},
   "outputs": [
    {
     "name": "stdout",
     "output_type": "stream",
     "text": [
      "------Develop a program that finds the factorial of a given number using a for loop.-----\n",
      "\n",
      "Factorial of 6 is : 720\n"
     ]
    }
   ],
   "source": [
    "print(\"------Develop a program that finds the factorial of a given number using a for loop.-----\")\n",
    "print()\n",
    "\n",
    "factorial_number = 6\n",
    "factorial = 1\n",
    "for i in range(1,factorial_number+1):\n",
    "    factorial *=i\n",
    "\n",
    "print(f\"Factorial of {factorial_number} is : {factorial}\")  "
   ]
  },
  {
   "cell_type": "markdown",
   "id": "d3f1f9f1-f389-4f23-8633-559deca8a269",
   "metadata": {},
   "source": [
    "5. Create a program to print the multiplication table of a given number using a `for` loop."
   ]
  },
  {
   "cell_type": "code",
   "execution_count": 19,
   "id": "4e6df0bf-64c2-4083-8015-a2e085d1e2be",
   "metadata": {},
   "outputs": [
    {
     "name": "stdout",
     "output_type": "stream",
     "text": [
      "------Create a program to print the multiplication table of a given number using a `for` loop.-----\n",
      "\n",
      "Multiplication table of 6\n",
      "6 x 1 = 6\n",
      "6 x 2 = 12\n",
      "6 x 3 = 18\n",
      "6 x 4 = 24\n",
      "6 x 5 = 30\n",
      "6 x 6 = 36\n",
      "6 x 7 = 42\n",
      "6 x 8 = 48\n",
      "6 x 9 = 54\n",
      "6 x 10 = 60\n"
     ]
    }
   ],
   "source": [
    "print(\"------Create a program to print the multiplication table of a given number using a `for` loop.-----\")\n",
    "print()\n",
    "\n",
    "number = 6\n",
    "print(f\"Multiplication table of {number}\")  \n",
    "for i in range(1,11):\n",
    "    result = number*i\n",
    "    print(f\"{number} x {i} = {result}\")"
   ]
  },
  {
   "cell_type": "markdown",
   "id": "c18b7efe-1ee1-43ff-93dd-580beca2c0ae",
   "metadata": {},
   "source": [
    "6. Write a program that counts the number of even and odd numbers in a list using a `for` loop."
   ]
  },
  {
   "cell_type": "code",
   "execution_count": 20,
   "id": "9142f7fa-2989-4c77-821c-b882bd164c76",
   "metadata": {},
   "outputs": [
    {
     "name": "stdout",
     "output_type": "stream",
     "text": [
      "------Write a program that counts the number of even and odd numbers in a list using a `for` loop.-----\n",
      "\n",
      "In the given list, the count of even number is 3 and count of odd number is 7\n"
     ]
    }
   ],
   "source": [
    "print(\"------Write a program that counts the number of even and odd numbers in a list using a `for` loop.-----\")\n",
    "print()\n",
    "\n",
    "even_count = 0\n",
    "odd_count = 0\n",
    "number_list = [3,5,1,9,20,14,17,15,13,10]\n",
    "for i in range(len(number_list)):\n",
    "    if number_list[i]%2==0:\n",
    "        even_count+=1\n",
    "    else:\n",
    "        odd_count+=1\n",
    "\n",
    "print(f\"In the given list, the count of even number is {even_count} and count of odd number is {odd_count}\")"
   ]
  },
  {
   "cell_type": "markdown",
   "id": "ece8466a-ee85-4c4f-ad0b-f43ae8ce56ec",
   "metadata": {},
   "source": [
    "7. Develop a program that prints the squares of numbers from 1 to 5 using a `for` loop."
   ]
  },
  {
   "cell_type": "code",
   "execution_count": 21,
   "id": "e1fd2d3e-996b-43d1-9f03-e074b0a5598f",
   "metadata": {},
   "outputs": [
    {
     "name": "stdout",
     "output_type": "stream",
     "text": [
      "------Develop a program that prints the squares of numbers from 1 to 5 using a `for` loop.-----\n",
      "\n",
      "1\n",
      "4\n",
      "9\n",
      "16\n",
      "25\n"
     ]
    }
   ],
   "source": [
    "print(\"------Develop a program that prints the squares of numbers from 1 to 5 using a `for` loop.-----\")\n",
    "print()\n",
    "\n",
    "for i in range(1,6):\n",
    "    print(i*i)"
   ]
  },
  {
   "cell_type": "markdown",
   "id": "f848f75f-33a6-4e6b-88bf-0b5f6c9739ce",
   "metadata": {},
   "source": [
    "8. Create a program to find the length of a string without using the `len()` function."
   ]
  },
  {
   "cell_type": "code",
   "execution_count": 22,
   "id": "ccf2bdd9-c1a6-4380-9401-cfa42b53f82e",
   "metadata": {},
   "outputs": [
    {
     "name": "stdout",
     "output_type": "stream",
     "text": [
      "------Create a program to find the length of a string without using the `len()` function.-----\n",
      "\n",
      "Lenth of the given string is : 5\n"
     ]
    }
   ],
   "source": [
    "print(\"------Create a program to find the length of a string without using the `len()` function.-----\")\n",
    "print()\n",
    "\n",
    "my_string = \"India\"\n",
    "string_len = 0\n",
    "for i in range(len(my_string)):\n",
    "    string_len +=1\n",
    "\n",
    "print(f\"Lenth of the given string is : {string_len}\")"
   ]
  },
  {
   "cell_type": "markdown",
   "id": "3e729516-3fcc-4867-8ad6-ad4dc3f8580d",
   "metadata": {},
   "source": [
    "9. Write a program that calculates the average of a list of numbers using a `for` loop."
   ]
  },
  {
   "cell_type": "code",
   "execution_count": 23,
   "id": "02fe89c8-2d0e-464b-b087-045151ef5ac6",
   "metadata": {},
   "outputs": [
    {
     "name": "stdout",
     "output_type": "stream",
     "text": [
      "------Write a program that calculates the average of a list of numbers using a `for` loop.-----\n",
      "\n",
      "The average of a list of numbers is: 10.7\n"
     ]
    }
   ],
   "source": [
    "print(\"------Write a program that calculates the average of a list of numbers using a `for` loop.-----\")\n",
    "print()\n",
    "\n",
    "number_list = [3,5,1,9,20,14,17,15,13,10]\n",
    "sum = 0\n",
    "avg=0\n",
    "\n",
    "for i in range(len(number_list)):\n",
    "    sum+=number_list[i]\n",
    "\n",
    "avg = sum/len(number_list)\n",
    "\n",
    "print(f\"The average of a list of numbers is: {avg}\")"
   ]
  },
  {
   "cell_type": "markdown",
   "id": "c8147872-59f8-4e50-b4dd-68100c86f45e",
   "metadata": {},
   "source": [
    "10. Develop a program that prints the first `n` Fibonacci numbers using a `for` loop"
   ]
  },
  {
   "cell_type": "code",
   "execution_count": 26,
   "id": "17ae7bf3-7761-4a12-b5e0-8e629df70081",
   "metadata": {},
   "outputs": [
    {
     "name": "stdout",
     "output_type": "stream",
     "text": [
      "------Develop a program that prints the first `n` Fibonacci numbers using a `for` loop-----\n",
      "\n",
      "0\n",
      "1\n",
      "1\n",
      "2\n",
      "3\n",
      "5\n",
      "8\n",
      "13\n",
      "21\n",
      "34\n"
     ]
    }
   ],
   "source": [
    "print(\"------Develop a program that prints the first `n` Fibonacci numbers using a `for` loop-----\")\n",
    "print()\n",
    "\n",
    "number = 10\n",
    "occr_1 = 0\n",
    "occr_2 = 1\n",
    "\n",
    "if number<=0:\n",
    "    print(0)\n",
    "elif number == 1:\n",
    "    print(occr_1)\n",
    "    print(occr_2)\n",
    "else:\n",
    "    print(occr_1)\n",
    "    print(occr_2)\n",
    "    for i in range(2,number):\n",
    "        result = occr_1+occr_2\n",
    "        occr_1 = occr_2\n",
    "        occr_2 = result\n",
    "        # print(i)\n",
    "        print(result)"
   ]
  },
  {
   "cell_type": "markdown",
   "id": "cb09ab08-6b0c-4607-ba5f-de7044bf368a",
   "metadata": {},
   "source": [
    "11. Write a program to check if a given list contains any duplicates using a `for` loop."
   ]
  },
  {
   "cell_type": "code",
   "execution_count": 29,
   "id": "5c2c99f7-4a6d-4257-a965-9a81cabaa8fb",
   "metadata": {},
   "outputs": [
    {
     "name": "stdout",
     "output_type": "stream",
     "text": [
      "------Write a program to check if a given list contains any duplicates using a `for` loop.-----\n",
      "\n",
      "Given list has duplicate value\n"
     ]
    }
   ],
   "source": [
    "print(\"------Write a program to check if a given list contains any duplicates using a `for` loop.-----\")\n",
    "print()\n",
    "\n",
    "number_list = [3,5,1,9,20,14,17,15,13,10,20,5]\n",
    "has_duplicate = False\n",
    "for i in range(len(number_list)):\n",
    "    if(number_list.count(number_list[i])>1):\n",
    "        has_duplicate = True\n",
    "    else:\n",
    "        has_duplicate = False\n",
    "        \n",
    "\n",
    "if(has_duplicate):\n",
    "    print(\"Given list has duplicate value\")\n",
    "else:\n",
    "    print(\"There is no duplicate value in the given list\")"
   ]
  },
  {
   "cell_type": "markdown",
   "id": "ae8c0131-14f1-4052-9faa-563f023b21b8",
   "metadata": {},
   "source": [
    "12. Create a program that prints the prime numbers in a given range using a `for` loop."
   ]
  },
  {
   "cell_type": "code",
   "execution_count": 33,
   "id": "076e8224-79a0-4918-b37f-f65525ae9cb4",
   "metadata": {},
   "outputs": [
    {
     "name": "stdout",
     "output_type": "stream",
     "text": [
      "------Create a program that prints the prime numbers in a given range using a `for` loop.-----\n",
      "\n",
      "2\n",
      "3\n",
      "5\n",
      "7\n",
      "11\n",
      "13\n",
      "17\n",
      "19\n"
     ]
    }
   ],
   "source": [
    "print(\"------Create a program that prints the prime numbers in a given range using a `for` loop.-----\")\n",
    "print()\n",
    "\n",
    "number = 20;\n",
    "for i in range(2,number+1):\n",
    "    for num in range(2,i):\n",
    "        if i%num==0:\n",
    "            break\n",
    "    else:\n",
    "        print(i)"
   ]
  },
  {
   "cell_type": "markdown",
   "id": "c6669e02-ffbe-450b-9e98-591898b668a2",
   "metadata": {},
   "source": [
    "13. Develop a program that counts the number of vowels in a string using a `for` loop."
   ]
  },
  {
   "cell_type": "code",
   "execution_count": 35,
   "id": "8981084e-7e21-4c22-982e-4cbf5d9064d9",
   "metadata": {},
   "outputs": [
    {
     "name": "stdout",
     "output_type": "stream",
     "text": [
      "------Develop a program that counts the number of vowels in a string using a `for` loop.-----\n",
      "\n",
      "There are 6 vowels in the given string\n"
     ]
    }
   ],
   "source": [
    "print(\"------Develop a program that counts the number of vowels in a string using a `for` loop.-----\")\n",
    "print()\n",
    "\n",
    "string = \"I love india\"\n",
    "vowel_count = 0\n",
    "for i in range(len(string)):\n",
    "    if string[i].lower()=='a' or string[i].lower()=='e' or string[i].lower()=='i' or string[i].lower()=='o' or string[i].lower()=='u':\n",
    "        vowel_count+=1\n",
    "    \n",
    "\n",
    "print(f\"There are {vowel_count} vowels in the given string\")"
   ]
  },
  {
   "cell_type": "markdown",
   "id": "097927ea-e1bb-401b-b629-381607c65466",
   "metadata": {},
   "source": [
    "14. Write a program to find the maximum element in a 2D list using a nested `for` loop."
   ]
  },
  {
   "cell_type": "code",
   "execution_count": 37,
   "id": "4c18fee4-74f8-421f-8dca-5a2ee0f42be1",
   "metadata": {},
   "outputs": [
    {
     "name": "stdout",
     "output_type": "stream",
     "text": [
      "------Write a program to find the maximum element in a 2D list using a nested `for` loop.----\n",
      "\n",
      "Maximum value is :- 66\n"
     ]
    }
   ],
   "source": [
    "print(\"------Write a program to find the maximum element in a 2D list using a nested `for` loop.----\")\n",
    "print()\n",
    "\n",
    "\n",
    "a = [[10, 13, 45, 66, 44], [10, 8, 7, 23]]\n",
    "maximum_value = 0\n",
    "for i in range(len(a)):\n",
    "    for j in range(len(a[i])):\n",
    "        if a[i][j]>maximum_value:\n",
    "            maximum_value = a[i][j]\n",
    "            \n",
    "print(f\"Maximum value is :- {maximum_value}\")"
   ]
  },
  {
   "cell_type": "markdown",
   "id": "acb4ac14-0b8e-491f-9bac-dca9304fb8ce",
   "metadata": {},
   "source": [
    "15. Create a program that removes all occurrences of a specific element from a list using a `for` loop."
   ]
  },
  {
   "cell_type": "code",
   "execution_count": 38,
   "id": "4bdc445a-7645-455e-890a-50a9c3225d5c",
   "metadata": {},
   "outputs": [
    {
     "name": "stdout",
     "output_type": "stream",
     "text": [
      "------Create a program that removes all occurrences of a specific element from a list using a `for` loop..----\n",
      "\n",
      "After removing element from list: [3, 1, 9, 20, 14, 17, 15, 13, 10, 20]\n"
     ]
    }
   ],
   "source": [
    "print(\"------Create a program that removes all occurrences of a specific element from a list using a `for` loop..----\")\n",
    "print()\n",
    "\n",
    "\n",
    "a1 = [3,5,1,9,20,14,17,15,13,10,20,5]\n",
    "element_to_remove =5\n",
    "for i in a1:\n",
    "    if i==element_to_remove:\n",
    "        a1.remove(i)\n",
    "\n",
    "print(f\"After removing element from list: {a1}\")"
   ]
  },
  {
   "cell_type": "markdown",
   "id": "464cb06d-d1bd-4918-a867-f38f2d55b7d9",
   "metadata": {},
   "source": [
    "16. Develop a program that generates a multiplication table for numbers from 1 to 5 using a nested `for` loop."
   ]
  },
  {
   "cell_type": "code",
   "execution_count": 2,
   "id": "57e5582a-c6c2-4a9b-a180-471289cab065",
   "metadata": {},
   "outputs": [
    {
     "name": "stdout",
     "output_type": "stream",
     "text": [
      "\n",
      "Multiplication table of 1\n",
      "1 x 1 = 1\n",
      "1 x 2 = 2\n",
      "1 x 3 = 3\n",
      "1 x 4 = 4\n",
      "1 x 5 = 5\n",
      "1 x 6 = 6\n",
      "1 x 7 = 7\n",
      "1 x 8 = 8\n",
      "1 x 9 = 9\n",
      "1 x 10 = 10\n",
      "\n",
      "Multiplication table of 2\n",
      "2 x 1 = 2\n",
      "2 x 2 = 4\n",
      "2 x 3 = 6\n",
      "2 x 4 = 8\n",
      "2 x 5 = 10\n",
      "2 x 6 = 12\n",
      "2 x 7 = 14\n",
      "2 x 8 = 16\n",
      "2 x 9 = 18\n",
      "2 x 10 = 20\n",
      "\n",
      "Multiplication table of 3\n",
      "3 x 1 = 3\n",
      "3 x 2 = 6\n",
      "3 x 3 = 9\n",
      "3 x 4 = 12\n",
      "3 x 5 = 15\n",
      "3 x 6 = 18\n",
      "3 x 7 = 21\n",
      "3 x 8 = 24\n",
      "3 x 9 = 27\n",
      "3 x 10 = 30\n",
      "\n",
      "Multiplication table of 4\n",
      "4 x 1 = 4\n",
      "4 x 2 = 8\n",
      "4 x 3 = 12\n",
      "4 x 4 = 16\n",
      "4 x 5 = 20\n",
      "4 x 6 = 24\n",
      "4 x 7 = 28\n",
      "4 x 8 = 32\n",
      "4 x 9 = 36\n",
      "4 x 10 = 40\n",
      "\n",
      "Multiplication table of 5\n",
      "5 x 1 = 5\n",
      "5 x 2 = 10\n",
      "5 x 3 = 15\n",
      "5 x 4 = 20\n",
      "5 x 5 = 25\n",
      "5 x 6 = 30\n",
      "5 x 7 = 35\n",
      "5 x 8 = 40\n",
      "5 x 9 = 45\n",
      "5 x 10 = 50\n"
     ]
    }
   ],
   "source": [
    "for i in range(1,6):\n",
    "    print()\n",
    "    print(f\"Multiplication table of {i}\")\n",
    "    for j in range(1,11):\n",
    "        print(f\"{i} x {j} = {i*j}\")"
   ]
  },
  {
   "cell_type": "markdown",
   "id": "d8e904f2-6cf1-423f-a3fd-aa40e54e5661",
   "metadata": {},
   "source": [
    "17. Write a program that converts a list of Fahrenheit temperatures to Celsius using a `for` loop"
   ]
  },
  {
   "cell_type": "code",
   "execution_count": 3,
   "id": "64e43ff0-9f19-4b24-a0b4-140d57504336",
   "metadata": {},
   "outputs": [
    {
     "name": "stdout",
     "output_type": "stream",
     "text": [
      "-----Write a program that converts a list of Fahrenheit temperatures to Celsius using a `for` loop----\n",
      "\n",
      "50°F = 10°C\n",
      "40°F = 4°C\n",
      "60°F = 15°C\n",
      "110°F = 43°C\n",
      "30°F = -1°C\n",
      "150°F = 65°C\n",
      "60°F = 15°C\n"
     ]
    }
   ],
   "source": [
    "print(\"-----Write a program that converts a list of Fahrenheit temperatures to Celsius using a `for` loop----\")\n",
    "print()\n",
    "\n",
    "# (32°F − 32) × 5/9 = 0°C\n",
    "farenheit_list = [50,40,60,110,30,150,60]\n",
    "for i in farenheit_list:\n",
    "    celsius = int((i-32)*(5/9))\n",
    "    print(f\"{i}°F = {celsius}°C\")"
   ]
  },
  {
   "cell_type": "markdown",
   "id": "f9e1fd42-b540-49b5-b193-04d0c82ae699",
   "metadata": {},
   "source": [
    "18. Create a program to print the common elements from two lists using a `for` loop."
   ]
  },
  {
   "cell_type": "code",
   "execution_count": 5,
   "id": "616dfa1d-a579-4877-b2c8-8198acac2d52",
   "metadata": {},
   "outputs": [
    {
     "name": "stdout",
     "output_type": "stream",
     "text": [
      "-----Create a program to print the common elements from two lists using a `for` loop.----\n",
      "\n",
      "Common Element in two lists are: [110, 150, 150, 60]\n"
     ]
    }
   ],
   "source": [
    "print(\"-----Create a program to print the common elements from two lists using a `for` loop.----\")\n",
    "print()\n",
    "\n",
    "list1 = [50,40,110,30,150,60]\n",
    "list2 = [150,140,110,230,150,60]\n",
    "\n",
    "common_element = []\n",
    "for i in list1:\n",
    "    for j in list2:\n",
    "        if(i==j):\n",
    "            common_element.append(i)\n",
    "\n",
    "print(f\"Common Element in two lists are: {common_element}\")"
   ]
  },
  {
   "cell_type": "markdown",
   "id": "768073ba-933a-4632-bfb9-7a2d15217ac4",
   "metadata": {},
   "source": [
    "19. Develop a program that prints the pattern of right-angled triangles using a `for` loop. Use ‘*’ to draw the\n",
    "pattern"
   ]
  },
  {
   "cell_type": "code",
   "execution_count": 8,
   "id": "802aac66-ff5c-4045-9497-582ffde1032b",
   "metadata": {},
   "outputs": [
    {
     "name": "stdout",
     "output_type": "stream",
     "text": [
      "-----Develop a program that prints the pattern of right-angled triangles using a `for` loop. Use ‘*’ to draw thepattern----\n",
      "\n",
      "* \n",
      "* * \n",
      "* * * \n",
      "* * * * \n",
      "* * * * * \n"
     ]
    }
   ],
   "source": [
    "print(\"-----Develop a program that prints the pattern of right-angled triangles using a `for` loop. Use ‘*’ to draw thepattern----\")\n",
    "print()\n",
    "for i in range(1,6):\n",
    "    for j in range(1,i+1):\n",
    "        print(\"* \",end=\"\")\n",
    "    print('\\r')"
   ]
  },
  {
   "cell_type": "markdown",
   "id": "b0b30ec2-5ce4-405f-8e73-6dd4c8e38ffe",
   "metadata": {},
   "source": [
    "20. Write a program to find the greatest common divisor (GCD) of two numbers using a `for` loop."
   ]
  },
  {
   "cell_type": "code",
   "execution_count": 3,
   "id": "662bca59-5264-43d3-9e41-bd0cf6132afe",
   "metadata": {},
   "outputs": [
    {
     "name": "stdout",
     "output_type": "stream",
     "text": [
      "-----Write a program to find the greatest common divisor (GCD) of two numbers using a `for` loop.----\n",
      "\n",
      "GCD of 20 and 30 is 10\n"
     ]
    }
   ],
   "source": [
    "print(\"-----Write a program to find the greatest common divisor (GCD) of two numbers using a `for` loop.----\")\n",
    "print()\n",
    "\n",
    "# take number1 and number2\n",
    "number1 = 20\n",
    "number2 = 30\n",
    "gcd = 1\n",
    "for i in range(1,min(number1+1,number2+1)):\n",
    "    if(number1%i==0 and number2%i==0):\n",
    "        gcd=i\n",
    "\n",
    "print(f\"GCD of {number1} and {number2} is {gcd}\")"
   ]
  },
  {
   "cell_type": "markdown",
   "id": "b8f0f128-be70-41b2-b10b-6a5aea6db24d",
   "metadata": {},
   "source": [
    "21. Create a program that calculates the sum of the digits of numbers in a list using a list comprehension"
   ]
  },
  {
   "cell_type": "code",
   "execution_count": 5,
   "id": "e4f1e202-c317-46b5-8552-36365d8cd150",
   "metadata": {},
   "outputs": [
    {
     "name": "stdout",
     "output_type": "stream",
     "text": [
      "-----Create a program that calculates the sum of the digits of numbers in a list using a list comprehension----\n",
      "\n",
      "[3, 7, 10, 10, 17, 14, 6]\n"
     ]
    }
   ],
   "source": [
    "print(\"-----Create a program that calculates the sum of the digits of numbers in a list using a list comprehension----\")\n",
    "print()\n",
    "\n",
    "\n",
    "list1 = [201,502,46,64,980,716,420]\n",
    "\n",
    "def sum_of_numbers(number):\n",
    "    result = sum(int(i) for i in str(number))\n",
    "    # print(result)\n",
    "    return result\n",
    "\n",
    "result = [sum_of_numbers(i) for i in list1]\n",
    "print(result)"
   ]
  },
  {
   "cell_type": "markdown",
   "id": "a3eae70e-70bc-4b66-a99c-d3b03e4d5e07",
   "metadata": {},
   "source": [
    "22. Write a program to find the prime factors of a given number using a `for` loop and list comprehension."
   ]
  },
  {
   "cell_type": "code",
   "execution_count": 1,
   "id": "e9914a1f-0fa6-400d-80a0-136d9bdbf42c",
   "metadata": {},
   "outputs": [
    {
     "name": "stdin",
     "output_type": "stream",
     "text": [
      "Enter a number:  33\n"
     ]
    },
    {
     "name": "stdout",
     "output_type": "stream",
     "text": [
      "Prime factors of 33: [3, 11]\n"
     ]
    }
   ],
   "source": [
    "print(\"-----Write a program to find the prime factors of a given number using a for loop and list comprehension.----\")\n",
    "print()\n",
    "def find_prime_factors(number):\n",
    "    prime_factors = []\n",
    "\n",
    "    # Divide the number by 2 until it's even\n",
    "    while number % 2 == 0:\n",
    "        prime_factors.append(2)\n",
    "        number //= 2\n",
    "\n",
    "    # Check for prime factors starting from 3\n",
    "    for i in range(3, int(number**0.5) + 1, 2):\n",
    "        while number % i == 0:\n",
    "            prime_factors.append(i)\n",
    "            number //= i\n",
    "\n",
    "    # If the remaining number is greater than 2, it's also a prime factor\n",
    "    if number > 2:\n",
    "        prime_factors.append(number)\n",
    "\n",
    "    return prime_factors\n",
    "\n",
    "# Input a number to find its prime factors\n",
    "num = int(input(\"Enter a number: \"))\n",
    "\n",
    "if num < 2:\n",
    "    print(\"Prime factors are not applicable for numbers less than 2.\")\n",
    "else:\n",
    "    factors = find_prime_factors(num)\n",
    "    print(f\"Prime factors of {num}: {factors}\")\n"
   ]
  },
  {
   "cell_type": "markdown",
   "id": "01c2cf56-6578-44e1-b78f-be1952ae022b",
   "metadata": {},
   "source": [
    "23. Develop a program that extracts unique elements from a list and stores them in a new list using a list\n",
    "comprehension."
   ]
  },
  {
   "cell_type": "code",
   "execution_count": 2,
   "id": "3d96c071-0acf-42bf-afd5-3dee531b82db",
   "metadata": {},
   "outputs": [
    {
     "name": "stdout",
     "output_type": "stream",
     "text": [
      "[11, 3, 4, 566, 777]\n"
     ]
    }
   ],
   "source": [
    "print(\"-----Develop a program that extracts unique elements from a list and stores them in a new list using a list comprehension.----\")\n",
    "print()\n",
    "\n",
    "def find_unique_elem(list1):\n",
    "    new_list = [i for i in list1 if list1.count(i)==1]\n",
    "    return new_list\n",
    "\n",
    "list1 = [11,2,2,2,3,4,566,777,8,8,8,8]\n",
    "res = find_unique_elem(list1)\n",
    "print(res)"
   ]
  },
  {
   "cell_type": "markdown",
   "id": "1d9ddf46-1c9d-47c9-b13e-c0bfa5ed5126",
   "metadata": {},
   "source": [
    "24. Create a program that generates a list of all palindromic numbers up to a specified limit using a list\n",
    "comprehension."
   ]
  },
  {
   "cell_type": "code",
   "execution_count": 2,
   "id": "2d16043a-c33c-4a03-a92c-31d7a36c5ed0",
   "metadata": {},
   "outputs": [
    {
     "name": "stdout",
     "output_type": "stream",
     "text": [
      "-----Create a program that generates a list of all palindromic numbers up to a specified limit using a list comprehension..----\n",
      "\n"
     ]
    },
    {
     "name": "stdin",
     "output_type": "stream",
     "text": [
      "Enter your limit:  1000\n"
     ]
    },
    {
     "name": "stdout",
     "output_type": "stream",
     "text": [
      "[1, 2, 3, 4, 5, 6, 7, 8, 9, 11, 22, 33, 44, 55, 66, 77, 88, 99, 101, 111, 121, 131, 141, 151, 161, 171, 181, 191, 202, 212, 222, 232, 242, 252, 262, 272, 282, 292, 303, 313, 323, 333, 343, 353, 363, 373, 383, 393, 404, 414, 424, 434, 444, 454, 464, 474, 484, 494, 505, 515, 525, 535, 545, 555, 565, 575, 585, 595, 606, 616, 626, 636, 646, 656, 666, 676, 686, 696, 707, 717, 727, 737, 747, 757, 767, 777, 787, 797, 808, 818, 828, 838, 848, 858, 868, 878, 888, 898, 909, 919, 929, 939, 949, 959, 969, 979, 989, 999]\n"
     ]
    }
   ],
   "source": [
    "print(\"-----Create a program that generates a list of all palindromic numbers up to a specified limit using a list comprehension..----\")\n",
    "print()\n",
    "\n",
    "def is_palindrome(number):\n",
    "    return str(number) == str(number)[::-1]\n",
    "\n",
    "limit_range = int(input(\"Enter your limit: \"))\n",
    "palindrome_list = [i for i in range(1, limit_range+1) if is_palindrome(i)]\n",
    "print(palindrome_list)"
   ]
  },
  {
   "cell_type": "markdown",
   "id": "aaa4243e-2cc6-4027-a7e2-88559cd92d3d",
   "metadata": {},
   "source": [
    "25. Write a program to flatten a nested list using list comprehension."
   ]
  },
  {
   "cell_type": "code",
   "execution_count": 3,
   "id": "0ba93bc9-2860-47af-8942-6fccb85031e2",
   "metadata": {},
   "outputs": [
    {
     "name": "stdout",
     "output_type": "stream",
     "text": [
      "-----Write a program to flatten a nested list using list comprehension.----\n",
      "\n",
      "[1, 2, 3, 4, 4, 32, 1, 2, 44, 33, 232, 22]\n"
     ]
    }
   ],
   "source": [
    "print(\"-----Write a program to flatten a nested list using list comprehension.----\")\n",
    "print()\n",
    "\n",
    "def flatten_list(l1):\n",
    "    l= [j for i in l1 for j in i]\n",
    "    return l\n",
    "\n",
    "list1 = [[1,2,3,4],[4,32,1,2],[44,33,232,22]]\n",
    "result = flatten_list(list1)\n",
    "print(result)"
   ]
  },
  {
   "cell_type": "markdown",
   "id": "d9be59ab-b63c-4863-8622-365d8758c9c5",
   "metadata": {},
   "source": [
    "26. Develop a program that computes the sum of even and odd numbers in a list separately using list\n",
    "comprehension."
   ]
  },
  {
   "cell_type": "code",
   "execution_count": 4,
   "id": "2574c6a8-f032-4e73-bb47-1ebefc4a8f05",
   "metadata": {},
   "outputs": [
    {
     "name": "stdout",
     "output_type": "stream",
     "text": [
      "-----Develop a program that computes the sum of even and odd numbers in a list separately using list comprehension.----\n",
      "\n",
      "[342, 38]\n"
     ]
    }
   ],
   "source": [
    "print(\"-----Develop a program that computes the sum of even and odd numbers in a list separately using list comprehension.----\")\n",
    "print()\n",
    "\n",
    "def sum_even_and_odd(li):\n",
    "    l = [sum([i for i in li if i%2==0]), sum([i for i in li if i%2!=0])]\n",
    "    return l\n",
    "list1 = [1, 2, 3, 4, 4, 32, 1, 2, 44, 33, 232, 22]\n",
    "result = sum_even_and_odd(list1)\n",
    "print(result)"
   ]
  },
  {
   "cell_type": "markdown",
   "id": "ac0668ce-76ea-4a58-859c-53b9a965b21d",
   "metadata": {},
   "source": [
    "27. Create a program that generates a list of squares of odd numbers between 1 and 10 using list\n",
    "comprehension."
   ]
  },
  {
   "cell_type": "code",
   "execution_count": 5,
   "id": "bf2efbed-eb5b-4974-b99c-fa22af78b7b8",
   "metadata": {},
   "outputs": [
    {
     "name": "stdout",
     "output_type": "stream",
     "text": [
      "-----Create a program that generates a list of squares of odd numbers between 1 and 10 using list comprehension..----\n",
      "\n",
      "[1, 9, 1, 1089]\n"
     ]
    }
   ],
   "source": [
    "print(\"-----Create a program that generates a list of squares of odd numbers between 1 and 10 using list comprehension..----\")\n",
    "print()\n",
    "\n",
    "def sqaure_of_odd_number(li):\n",
    "    l = [i**2 for i in li if i%2!=0]\n",
    "    return l\n",
    "\n",
    "list1 = [1, 2, 3, 4, 4, 32, 1, 2, 44, 33, 232, 22]\n",
    "result = sqaure_of_odd_number(list1)\n",
    "print(result)"
   ]
  },
  {
   "cell_type": "markdown",
   "id": "27a99528-1aed-4681-9bd3-f6054fdbc5d6",
   "metadata": {},
   "source": [
    "28. Write a program that combines two lists into a dictionary using list comprehension"
   ]
  },
  {
   "cell_type": "code",
   "execution_count": 7,
   "id": "b0715e62-d5df-4d35-8aa4-cb9f0e981f40",
   "metadata": {},
   "outputs": [
    {
     "name": "stdout",
     "output_type": "stream",
     "text": [
      "-----Write a program that combines two lists into a dictionary using list comprehension----\n",
      "\n",
      "{'Name': 'Alice', 'Age': 30, 'City': 'New York'}\n"
     ]
    }
   ],
   "source": [
    "print(\"-----Write a program that combines two lists into a dictionary using list comprehension----\")\n",
    "print()\n",
    "\n",
    "\n",
    "keys = [\"Name\", \"Age\", \"City\"]\n",
    "values = [\"Alice\", 30, \"New York\"]\n",
    "def combine_dict(l1,l2):\n",
    "    res = {l1[i]:l2[i] for i in range(min(len(l1), len(l2)))}\n",
    "    return res\n",
    "result = combine_dict(keys, values)\n",
    "print(result)"
   ]
  },
  {
   "cell_type": "markdown",
   "id": "1ed1b3db-7250-40b9-9bb7-b8acdfd87e52",
   "metadata": {},
   "source": [
    "29. Develop a program that extracts the vowels from a string and stores them in a list using list comprehension."
   ]
  },
  {
   "cell_type": "code",
   "execution_count": 8,
   "id": "1a564220-242b-4a16-9d80-7399ab2a9391",
   "metadata": {},
   "outputs": [
    {
     "name": "stdout",
     "output_type": "stream",
     "text": [
      "-----Develop a program that extracts the vowels from a string and stores them in a list using list comprehension.---\n",
      "\n",
      "['I', 'i', 'a']\n"
     ]
    }
   ],
   "source": [
    "print(\"-----Develop a program that extracts the vowels from a string and stores them in a list using list comprehension.---\")\n",
    "print()\n",
    "\n",
    "def extract_vowel(li):\n",
    "    vowels = \"aeiou\"\n",
    "    l = [i for i in li if i.lower() in vowels]\n",
    "    return l\n",
    "result = extract_vowel(\"India\")\n",
    "print(result)"
   ]
  },
  {
   "cell_type": "markdown",
   "id": "bb65772d-e3d6-4e2f-8f0d-fd2e2527bb0e",
   "metadata": {},
   "source": [
    "30. Create a program that removes all non-numeric characters from a list of strings using list comprehension."
   ]
  },
  {
   "cell_type": "code",
   "execution_count": 9,
   "id": "ab764047-a4d3-495c-aa07-fd2ca613d532",
   "metadata": {},
   "outputs": [
    {
     "name": "stdout",
     "output_type": "stream",
     "text": [
      "-----Create a program that removes all non-numeric characters from a list of strings using list comprehension.---\n",
      "\n",
      "['123', '456', '789', '123']\n"
     ]
    }
   ],
   "source": [
    "print(\"-----Create a program that removes all non-numeric characters from a list of strings using list comprehension.---\")\n",
    "print()\n",
    "\n",
    "# List of strings with alphanumeric characters\n",
    "strings = [\"abc123\", \"456xyz\", \"789\", \"hello123world\"]\n",
    "\n",
    "# List comprehension to remove non-numeric characters\n",
    "numeric_strings = [''.join(char for char in s if char.isnumeric()) for s in strings]\n",
    "\n",
    "# Display the resulting list of numeric strings\n",
    "print(numeric_strings)\n"
   ]
  },
  {
   "cell_type": "markdown",
   "id": "d02bed94-33d4-41fd-a27c-87128861f350",
   "metadata": {},
   "source": [
    "31. Write a program to generate a list of prime numbers using the Sieve of Eratosthenes algorithm and list\n",
    "comprehension."
   ]
  },
  {
   "cell_type": "code",
   "execution_count": 2,
   "id": "a7a1f144-851c-4eff-bc39-ee81f08d2e28",
   "metadata": {},
   "outputs": [
    {
     "name": "stdin",
     "output_type": "stream",
     "text": [
      "Enter the limit for prime numbers:  30\n"
     ]
    },
    {
     "name": "stdout",
     "output_type": "stream",
     "text": [
      "Prime numbers up to 30:\n",
      "[2, 3, 5, 7, 11, 13, 17, 19, 23, 29]\n"
     ]
    }
   ],
   "source": [
    "def sieve_of_eratosthenes(limit):\n",
    "    sieve = [True] * (limit + 1)\n",
    "    sieve[0] = sieve[1] = False\n",
    "\n",
    "    for current in range(2, int(limit**0.5) + 1):\n",
    "        if sieve[current]:\n",
    "            for multiple in range(current * current, limit + 1, current):\n",
    "                sieve[multiple] = False\n",
    "\n",
    "    return [num for num, is_prime in enumerate(sieve) if is_prime]\n",
    "\n",
    "# Specify the limit for generating prime numbers\n",
    "limit = int(input(\"Enter the limit for prime numbers: \"))\n",
    "\n",
    "# Generate a list of prime numbers using the Sieve of Eratosthenes\n",
    "prime_numbers = sieve_of_eratosthenes(limit)\n",
    "\n",
    "# Display the list of prime numbers\n",
    "print(f\"Prime numbers up to {limit}:\")\n",
    "print(prime_numbers)\n"
   ]
  },
  {
   "cell_type": "markdown",
   "id": "c4a72cee-8c7a-4ef2-a0b2-485fef411516",
   "metadata": {},
   "source": [
    "32. Create a program that generates a list of all Pythagorean triplets up to a specified limit using list\n",
    "comprehension."
   ]
  },
  {
   "cell_type": "code",
   "execution_count": 3,
   "id": "81123ce6-d3f0-4018-806d-79664f86bb24",
   "metadata": {},
   "outputs": [
    {
     "name": "stdin",
     "output_type": "stream",
     "text": [
      "Enter the limit for Pythagorean triplets:  30\n"
     ]
    },
    {
     "name": "stdout",
     "output_type": "stream",
     "text": [
      "Pythagorean triplets up to 30:\n",
      "(3, 4, 5)\n",
      "(5, 12, 13)\n",
      "(6, 8, 10)\n",
      "(7, 24, 25)\n",
      "(8, 15, 17)\n",
      "(9, 12, 15)\n",
      "(10, 24, 26)\n",
      "(12, 16, 20)\n",
      "(15, 20, 25)\n",
      "(18, 24, 30)\n",
      "(20, 21, 29)\n"
     ]
    }
   ],
   "source": [
    "# Function to find Pythagorean triplets up to a specified limit\n",
    "def generate_pythagorean_triplets(limit):\n",
    "    triplets = [(a, b, c) for a in range(1, limit + 1) for b in range(a, limit + 1) for c in range(b, limit + 1) if a**2 + b**2 == c**2]\n",
    "    return triplets\n",
    "\n",
    "# Specify the limit for generating Pythagorean triplets\n",
    "limit = int(input(\"Enter the limit for Pythagorean triplets: \"))\n",
    "\n",
    "# Generate a list of Pythagorean triplets using list comprehension\n",
    "pythagorean_triplets = generate_pythagorean_triplets(limit)\n",
    "\n",
    "# Display the list of Pythagorean triplets\n",
    "print(f\"Pythagorean triplets up to {limit}:\")\n",
    "for triplet in pythagorean_triplets:\n",
    "    print(triplet)\n"
   ]
  },
  {
   "cell_type": "markdown",
   "id": "1d57c118-44ef-4eb0-b7b9-5bee2250fab0",
   "metadata": {},
   "source": [
    "34. Write a program that calculates the mean, median, and mode of a list of numbers using list\n",
    "comprehension."
   ]
  },
  {
   "cell_type": "code",
   "execution_count": 5,
   "id": "8118ed3a-b793-4221-9bfb-ee3ade4d6274",
   "metadata": {},
   "outputs": [
    {
     "name": "stdout",
     "output_type": "stream",
     "text": [
      "List of numbers: [1, 2, 3, 4, 5, 6, 6, 7, 8, 9]\n",
      "Mean: 5.1\n",
      "Median: 5.5\n",
      "Mode: 6\n"
     ]
    }
   ],
   "source": [
    "import numpy as np\n",
    "import statistics\n",
    "\n",
    "# List of numbers\n",
    "numbers = [1, 2, 3, 4, 5, 6, 6, 7, 8, 9]\n",
    "\n",
    "# Calculate the mean using numpy\n",
    "mean = np.mean(numbers)\n",
    "\n",
    "# Calculate the median using numpy\n",
    "median = np.median(numbers)\n",
    "\n",
    "# Calculate the mode using statistics\n",
    "mode = statistics.mode(numbers)\n",
    "\n",
    "# Display the calculated statistics\n",
    "print(f\"List of numbers: {numbers}\")\n",
    "print(f\"Mean: {mean}\")\n",
    "print(f\"Median: {median}\")\n",
    "print(f\"Mode: {mode}\")\n"
   ]
  },
  {
   "cell_type": "markdown",
   "id": "d0509b21-4f9d-401b-8663-982eb400f005",
   "metadata": {},
   "source": [
    "35. Create a program that generates Pascal's triangle up to a specified number of rows using list\n",
    "comprehension."
   ]
  },
  {
   "cell_type": "code",
   "execution_count": 7,
   "id": "b390a0f4-6ba0-453a-b112-099dccd37b4d",
   "metadata": {},
   "outputs": [
    {
     "name": "stdin",
     "output_type": "stream",
     "text": [
      "Enter the number of rows for Pascal's triangle:  6\n"
     ]
    },
    {
     "name": "stdout",
     "output_type": "stream",
     "text": [
      "Pascal's Triangle:\n",
      "     1\n",
      "    1 1\n",
      "   1 2 1\n",
      "  1 3 3 1\n",
      " 1 4 6 4 1\n",
      "1 5 10 10 5 1\n"
     ]
    }
   ],
   "source": [
    "# Function to generate Pascal's triangle\n",
    "def generate_pascals_triangle(n):\n",
    "    triangle = [[1]]\n",
    "\n",
    "    for i in range(1, n):\n",
    "        row = [1] + [triangle[i-1][j] + triangle[i-1][j+1] for j in range(i-1)] + [1]\n",
    "        triangle.append(row)\n",
    "\n",
    "    return triangle\n",
    "\n",
    "# Specify the number of rows for Pascal's triangle\n",
    "num_rows = int(input(\"Enter the number of rows for Pascal's triangle: \"))\n",
    "\n",
    "# Generate Pascal's triangle using list comprehension\n",
    "pascals_triangle = generate_pascals_triangle(num_rows)\n",
    "\n",
    "# Display Pascal's triangle\n",
    "print(\"Pascal's Triangle:\")\n",
    "for row in pascals_triangle:\n",
    "    print(\" \" * (num_rows - len(row)), end=\"\")  # Adjust indentation\n",
    "    print(*row)\n"
   ]
  },
  {
   "cell_type": "markdown",
   "id": "a7da3a81-5c2d-48b9-9c0b-8bf196a44ecb",
   "metadata": {},
   "source": [
    "37. Write a program that finds the longest word in a sentence using list comprehension."
   ]
  },
  {
   "cell_type": "code",
   "execution_count": 9,
   "id": "3410d489-afee-45c2-bbb6-e044e28baf9e",
   "metadata": {},
   "outputs": [
    {
     "name": "stdin",
     "output_type": "stream",
     "text": [
      "Enter a sentence:  i love india\n"
     ]
    },
    {
     "name": "stdout",
     "output_type": "stream",
     "text": [
      "The longest word in the sentence is: india\n"
     ]
    }
   ],
   "source": [
    "# Function to find the longest word in a sentence\n",
    "def find_longest_word(sentence):\n",
    "    words = sentence.split()\n",
    "    longest_word = max(words, key=len)\n",
    "    return longest_word\n",
    "\n",
    "# Input a sentence\n",
    "sentence = input(\"Enter a sentence: \")\n",
    "\n",
    "# Find the longest word using list comprehension\n",
    "longest_word = find_longest_word(sentence)\n",
    "\n",
    "# Display the longest word\n",
    "print(f\"The longest word in the sentence is: {longest_word}\")\n"
   ]
  },
  {
   "cell_type": "markdown",
   "id": "7bece496-ea60-4f89-9774-d215b7e3ec51",
   "metadata": {},
   "source": [
    "38. Create a program that filters a list of strings to include only those with more than three vowels using list\n",
    "comprehension"
   ]
  },
  {
   "cell_type": "code",
   "execution_count": 12,
   "id": "9b14be96-98f1-4a8c-bf07-cca185f91836",
   "metadata": {},
   "outputs": [
    {
     "name": "stdout",
     "output_type": "stream",
     "text": [
      "Original list of strings: ['apple', 'banana', 'grape', 'cherry', 'python', 'programming', 'elephant']\n",
      "Strings with more than three vowels: ['banana', 'programming', 'elephant']\n"
     ]
    }
   ],
   "source": [
    "# Function to count vowels in a string\n",
    "def count_vowels(s):\n",
    "    vowels = \"AEIOUaeiou\"\n",
    "    return sum(1 for char in s if char in vowels)\n",
    "\n",
    "# List of strings\n",
    "strings = [\"apple\", \"banana\", \"grape\", \"cherry\", \"python\", \"programming\", \"elephant\"]\n",
    "\n",
    "# List comprehension to filter strings with more than three vowels\n",
    "filtered_strings = [s for s in strings if count_vowels(s) >= 3]\n",
    "\n",
    "# Display the filtered list\n",
    "print(\"Original list of strings:\", strings)\n",
    "print(\"Strings with more than three vowels:\", filtered_strings)\n"
   ]
  },
  {
   "cell_type": "markdown",
   "id": "2afc69f7-b4d5-4865-a569-be5a51ad25ab",
   "metadata": {},
   "source": [
    "39. Develop a program that calculates the sum of the digits of numbers from 1 to 1000 using list\n",
    "comprehension."
   ]
  },
  {
   "cell_type": "code",
   "execution_count": 13,
   "id": "05a3bc45-3054-4eea-be5c-06fde9283337",
   "metadata": {},
   "outputs": [
    {
     "name": "stdout",
     "output_type": "stream",
     "text": [
      "The total sum of the digits of numbers from 1 to 1000 is: 13501\n"
     ]
    }
   ],
   "source": [
    "# Function to calculate the sum of digits of a number\n",
    "def sum_of_digits(number):\n",
    "    return sum(int(digit) for digit in str(number))\n",
    "\n",
    "# Use list comprehension to calculate the sum of digits for numbers from 1 to 1000\n",
    "digit_sums = [sum_of_digits(number) for number in range(1, 1001)]\n",
    "\n",
    "# Calculate the total sum of digit sums\n",
    "total_sum = sum(digit_sums)\n",
    "\n",
    "# Display the total sum\n",
    "print(f\"The total sum of the digits of numbers from 1 to 1000 is: {total_sum}\")"
   ]
  },
  {
   "cell_type": "markdown",
   "id": "aac0ad5c-955f-4a2c-be6d-7fc040ebff24",
   "metadata": {},
   "source": [
    "40. Write a program that generates a list of prime palindromic numbers using list comprehension."
   ]
  },
  {
   "cell_type": "code",
   "execution_count": 15,
   "id": "84b218fb-e115-42f3-9c2c-6cfdd31a40cf",
   "metadata": {},
   "outputs": [
    {
     "name": "stdout",
     "output_type": "stream",
     "text": [
      "Prime Palindromic Numbers up to 1000:\n",
      "[2, 3, 5, 7, 11, 101, 131, 151, 181, 191, 313, 353, 373, 383, 727, 757, 787, 797, 919, 929]\n"
     ]
    }
   ],
   "source": [
    "# Function to check if a number is prime\n",
    "def is_prime(number):\n",
    "    if number < 2:\n",
    "        return False\n",
    "    for i in range(2, int(number**0.5) + 1):\n",
    "        if number % i == 0:\n",
    "            return False\n",
    "    return True\n",
    "\n",
    "# Function to check if a number is a palindrome\n",
    "def is_palindrome(number):\n",
    "    return str(number) == str(number)[::-1]\n",
    "\n",
    "# Use list comprehension to generate prime palindromic numbers\n",
    "prime_palindromes = [num for num in range(1, 1001) if is_prime(num) and is_palindrome(num)]\n",
    "\n",
    "# Display the list of prime palindromic numbers\n",
    "print(\"Prime Palindromic Numbers up to 1000:\")\n",
    "print(prime_palindromes)\n"
   ]
  },
  {
   "cell_type": "code",
   "execution_count": null,
   "id": "c98b310c-eb5c-40d5-9923-25690713fc3e",
   "metadata": {},
   "outputs": [],
   "source": []
  }
 ],
 "metadata": {
  "kernelspec": {
   "display_name": "Python 3 (ipykernel)",
   "language": "python",
   "name": "python3"
  },
  "language_info": {
   "codemirror_mode": {
    "name": "ipython",
    "version": 3
   },
   "file_extension": ".py",
   "mimetype": "text/x-python",
   "name": "python",
   "nbconvert_exporter": "python",
   "pygments_lexer": "ipython3",
   "version": "3.11.4"
  }
 },
 "nbformat": 4,
 "nbformat_minor": 5
}
